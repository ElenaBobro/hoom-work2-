{
  "cells": [
    {
      "cell_type": "markdown",
      "metadata": {
        "id": "view-in-github",
        "colab_type": "text"
      },
      "source": [
        "<a href=\"https://colab.research.google.com/github/ElenaBobro/hoom-work2-/blob/main/%D0%9A%D0%BE%D0%BF%D0%B8%D1%8F_%D0%B1%D0%BB%D0%BE%D0%BA%D0%BD%D0%BE%D1%82%D0%B0_%222_4_%D0%9A%D0%BB%D0%B0%D1%81%D0%B8_%22LB.ipynb\" target=\"_parent\"><img src=\"https://colab.research.google.com/assets/colab-badge.svg\" alt=\"Open In Colab\"/></a>"
      ]
    },
    {
      "cell_type": "markdown",
      "id": "1561554f",
      "metadata": {
        "id": "1561554f"
      },
      "source": [
        "# Домашнє завдання до теми \"Classes\"\n",
        "В цьому домашньому завданні в деяких задачах є частини коду, та в кожному завданні описано, що з ними треба зробити, часто - просто виконати після того, як ви напишете частину, якої поки не вистачає. Пишіть, будь ласка, код, який реалізує рішення кожного завдання, безпосереньо під формулюванням завдання, створюючи нові клітинки. Можете створювати скільки завгодно клітинок для виконання одного завдання."
      ]
    },
    {
      "cell_type": "markdown",
      "id": "5f983749",
      "metadata": {
        "id": "5f983749"
      },
      "source": [
        "1.Нижче є створений клас \"Shop\". Це клас для визначення магазинів компанії \"АВС\". У кожного магазина є локація і прибуток. Створіть три магазини в трьох окремих змінних:  \n",
        "- один з локацією \"Київ\" та прибутком 5500,   \n",
        "- другий - з локацією \"Львів\" та прибутком 3000,  \n",
        "- третій - з локацією \"Полтава\" та прибутком 2500  \n",
        "\n",
        "Порахуйте після цього суму прибутків трьох магазинів використовуючи інформацію про створені магазини.\n",
        "Виведіть сумарний прибуток на екран."
      ]
    },
    {
      "cell_type": "code",
      "execution_count": null,
      "id": "84cb2eb2",
      "metadata": {
        "id": "84cb2eb2"
      },
      "outputs": [],
      "source": [
        "class Shop:\n",
        "    company = 'ABC'\n",
        "\n",
        "    def __init__(self, location, profit):\n",
        "        self.location = location\n",
        "        self.profit = profit"
      ]
    },
    {
      "cell_type": "code",
      "execution_count": null,
      "id": "170727c8",
      "metadata": {
        "colab": {
          "base_uri": "https://localhost:8080/"
        },
        "id": "170727c8",
        "outputId": "8328cde1-6402-46e5-ea65-2cb9ff70fe9f"
      },
      "outputs": [
        {
          "name": "stdout",
          "output_type": "stream",
          "text": [
            "Сумарний прибуток: 11000\n"
          ]
        }
      ],
      "source": [
        "s1 = Shop(\"Київ\", 5500)\n",
        "s2 = Shop(\"Львів\", 3000)\n",
        "s3 = Shop(\"Полтава\", 2500)\n",
        "\n",
        "t_profit = s1.profit + s2.profit + s3.profit\n",
        "\n",
        "print(f\"Сумарний прибуток: {t_profit}\")"
      ]
    },
    {
      "cell_type": "markdown",
      "id": "3feaa824",
      "metadata": {
        "id": "3feaa824"
      },
      "source": [
        "2.Створіть клас `Employee`, який при ініціалізації представника класу визначає поля \"Прізвище\", \"Місяць народження\" та \"Зарплата\" та запустіть код нижче."
      ]
    },
    {
      "cell_type": "code",
      "execution_count": null,
      "id": "5850a071",
      "metadata": {
        "id": "5850a071"
      },
      "outputs": [],
      "source": [
        "class Employee:\n",
        "\n",
        "    def __init__(self, surname, month, salary):\n",
        "        self.surname = surname\n",
        "        self.month = month\n",
        "        self.salary = salary"
      ]
    },
    {
      "cell_type": "code",
      "execution_count": null,
      "id": "b0fcc9f2",
      "metadata": {
        "colab": {
          "base_uri": "https://localhost:8080/"
        },
        "id": "b0fcc9f2",
        "outputId": "21b3acf1-34b3-48a3-b115-3ff1f4768f3e"
      },
      "outputs": [
        {
          "name": "stdout",
          "output_type": "stream",
          "text": [
            "Чорненко жовтень 2000\n",
            "Біленко січень 3000\n",
            "Жовтенко березень 3400\n"
          ]
        }
      ],
      "source": [
        "emp_1 = Employee('Чорненко', 'жовтень', 2000)\n",
        "emp_2 = Employee('Біленко', 'січень', 3000)\n",
        "emp_3 = Employee('Жовтенко', 'березень', 3400)\n",
        "\n",
        "print(emp_1.surname,  emp_1.month, emp_1.salary)\n",
        "print(emp_2.surname,  emp_2.month, emp_2.salary)\n",
        "print(emp_3.surname,  emp_3.month, emp_3.salary)\n"
      ]
    },
    {
      "cell_type": "markdown",
      "id": "d6d285b8",
      "metadata": {
        "id": "d6d285b8"
      },
      "source": [
        "3.До класу `Employee` додайте метод `salutate`, який вітатиме з **місяцем** народження. Аби додати метод - скопіюйте просто код з визначенням класа з попереднього завдання і додайте туди новий метод.  \n",
        "Метод має приймати на вхід заданий місяць і\n",
        "- якщо цей місяць співпадає з місяцем народження співробітника, виводить `Вітаємо, пане <прізвище співробітника>! Зараз місяць <назва місяця> у Вас День народження! Будьте здорові!`. Для формування привітання використайте інтерполяцію рядків.\n",
        "- якщо місяць не співпадає з місяцем народження співробітника, метод нічого не вертає.  \n",
        "\n",
        "Коли зробите завдання - запустіть код нижче."
      ]
    },
    {
      "cell_type": "code",
      "execution_count": 7,
      "id": "be3e17d7",
      "metadata": {
        "id": "be3e17d7"
      },
      "outputs": [],
      "source": [
        "class Employee:\n",
        "\n",
        "    def __init__(self, surname, month, salary):\n",
        "        self.surname = surname\n",
        "        self.month = month\n",
        "        self.salary = salary\n",
        "\n",
        "    def salutate(self, people_day):\n",
        "      if people_day == self.month:\n",
        "         print(f'Вітаємо, пане {self.surname}! Зараз місяць {self.month} у Вас День народження! Будьте здорові!')"
      ]
    },
    {
      "cell_type": "code",
      "execution_count": 8,
      "id": "056e127e",
      "metadata": {
        "colab": {
          "base_uri": "https://localhost:8080/"
        },
        "id": "056e127e",
        "outputId": "789bd7be-2f18-4d1d-f4e8-b83f9ae70213"
      },
      "outputs": [
        {
          "output_type": "stream",
          "name": "stdout",
          "text": [
            "Вітаємо, пане Біленко! Зараз місяць січень у Вас День народження! Будьте здорові!\n"
          ]
        }
      ],
      "source": [
        "emp_1 = Employee('Чорненко', 'жовтень', 2000)\n",
        "emp_2 = Employee('Біленко', 'січень', 3000)\n",
        "emp_3 = Employee('Жовтенко', 'березень', 3400)\n",
        "\n",
        "emp_1.salutate('грудень')\n",
        "emp_2.salutate('січень')\n",
        "emp_3.salutate('травень')"
      ]
    },
    {
      "cell_type": "markdown",
      "id": "ca02deba",
      "metadata": {
        "id": "ca02deba"
      },
      "source": [
        "4.Створіть клас, який наслідує `Employee` та називається `BossEmployee`. У цього класа при ініціалізації є всі ті самі поля, що і в Employee, але також є поле `n_subordinates`, тобто \"кількість підлеглих\".\n",
        "\n",
        "Додайте новоствореному класу метод `add_subordinates`, який додаватиме передану в метод кількість підлеглих цьому босу (тобто буде оновлювати поле класу `n_subordinates`) та буде виводити повідомлення `Вітаємо, пане <прізвище співробітника>! У Вас <введене в метод число> нових співробітників!`. Перевірте, аби кількість нових підлеглих була цілою, якщо це не так, виведіть повідомлення: `Число <введене в метод число, округлене до трьох чисел після коми> не може бути кількістю підлеглих.`.\n",
        "\n",
        "Для формування повідомлень використайте метод форматування рядків, котрий був другим в лекції (з `format` частиною).\n",
        "Коли зробите завдання - запустіть код нижче."
      ]
    },
    {
      "cell_type": "code",
      "execution_count": 13,
      "id": "ac4f01e7",
      "metadata": {
        "id": "ac4f01e7"
      },
      "outputs": [],
      "source": [
        "class BossEmployee(Employee):\n",
        "    def __init__ (self, surname, month, salary, n_subordinates):\n",
        "        super().__init__(surname, month, salary)\n",
        "        self.n_subordinates = n_subordinates\n",
        "\n",
        "    def add_subordinates(self, num):\n",
        "        if isinstance(num, int):\n",
        "            self.n_subordinates += num\n",
        "            print(\"Вітаємо, пане {0}! У Вас {1} нових співробітників!\".format(self.surname, num))\n",
        "        else:\n",
        "            print(\"Число {0:.3f} не може бути кількістю підлеглих.\".format(num))"
      ]
    },
    {
      "cell_type": "code",
      "execution_count": 14,
      "id": "b6e5e6c0",
      "metadata": {
        "id": "b6e5e6c0",
        "colab": {
          "base_uri": "https://localhost:8080/"
        },
        "outputId": "9ee7d61b-2cbf-4d56-80f6-9098abbbb2dd"
      },
      "outputs": [
        {
          "output_type": "stream",
          "name": "stdout",
          "text": [
            "Вітаємо, пане Босенко! У Вас 5 нових співробітників!\n",
            "Число 4.788 не може бути кількістю підлеглих.\n",
            "Вітаємо, пане Босенко! У Вас 4 нових співробітників!\n"
          ]
        },
        {
          "output_type": "execute_result",
          "data": {
            "text/plain": [
              "12"
            ]
          },
          "metadata": {},
          "execution_count": 14
        }
      ],
      "source": [
        "emp_4 = BossEmployee('Босенко', 'липень', 5500, 3)\n",
        "emp_4.add_subordinates(5)\n",
        "emp_4.add_subordinates(4.78764174)\n",
        "emp_4.add_subordinates(4)\n",
        "emp_4.n_subordinates"
      ]
    },
    {
      "cell_type": "markdown",
      "id": "c3e0bd00",
      "metadata": {
        "id": "c3e0bd00"
      },
      "source": [
        "Очікуваний результат виконання команд вище:\n",
        "```\n",
        "Вітаємо, пане Босенко! У Вас 5 нових співробітників!     \n",
        "Число 4.788 не може бути кількістю підлеглих.\n",
        "Вітаємо, пане Босенко! У Вас 4 нових співробітників!\n",
        "12\n",
        "```"
      ]
    },
    {
      "cell_type": "markdown",
      "id": "441e5d09",
      "metadata": {
        "id": "441e5d09"
      },
      "source": [
        "# Ураа!! Ви завершили ВСІ завдання ДРУГОГО ТЕХНІЧНОГО МОДУЛЮ!!! З кожним ДЗ Ви стаєте з Python все ближче і ближче. Ваші відносини зараз - \"він поставив вогник на вашу сторис\" 😉\n",
        "\n",
        "В кінці курсу будете наче пити з ним просеко на кухні і обговорювати останні мемчики.  \n",
        "\n",
        "Далі - ще цікавіше! 🚀🚀🚀"
      ]
    }
  ],
  "metadata": {
    "colab": {
      "provenance": [],
      "include_colab_link": true
    },
    "kernelspec": {
      "display_name": "Python 3 (ipykernel)",
      "language": "python",
      "name": "python3"
    },
    "language_info": {
      "codemirror_mode": {
        "name": "ipython",
        "version": 3
      },
      "file_extension": ".py",
      "mimetype": "text/x-python",
      "name": "python",
      "nbconvert_exporter": "python",
      "pygments_lexer": "ipython3",
      "version": "3.10.4"
    },
    "toc": {
      "base_numbering": 1,
      "nav_menu": {},
      "number_sections": true,
      "sideBar": true,
      "skip_h1_title": false,
      "title_cell": "Table of Contents",
      "title_sidebar": "Contents",
      "toc_cell": false,
      "toc_position": {},
      "toc_section_display": true,
      "toc_window_display": false
    }
  },
  "nbformat": 4,
  "nbformat_minor": 5
}